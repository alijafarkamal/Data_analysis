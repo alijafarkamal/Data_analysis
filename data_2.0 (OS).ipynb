{
 "cells": [
  {
   "cell_type": "code",
   "execution_count": 1,
   "id": "68119a48-2102-4b99-8b98-98c1fc5df72d",
   "metadata": {},
   "outputs": [],
   "source": [
    "import os as os"
   ]
  },
  {
   "cell_type": "code",
   "execution_count": 3,
   "id": "00081226-076c-4b36-8ae4-67fd0bb67a3f",
   "metadata": {},
   "outputs": [
    {
     "data": {
      "text/plain": [
       "'C:\\\\Users\\\\Admin\\\\Desktop\\\\data_analysis'"
      ]
     },
     "execution_count": 3,
     "metadata": {},
     "output_type": "execute_result"
    }
   ],
   "source": [
    "os.getcwd()"
   ]
  },
  {
   "cell_type": "code",
   "execution_count": 5,
   "id": "d7f0863d-543b-462f-932c-30294f6cca4f",
   "metadata": {},
   "outputs": [
    {
     "name": "stdout",
     "output_type": "stream",
     "text": [
      "Help on built-in function listdir in module nt:\n",
      "\n",
      "listdir(path=None)\n",
      "    Return a list containing the names of the files in the directory.\n",
      "    \n",
      "    path can be specified as either str, bytes, or a path-like object.  If path is bytes,\n",
      "      the filenames returned will also be bytes; in all other circumstances\n",
      "      the filenames returned will be str.\n",
      "    If path is None, uses the path='.'.\n",
      "    On some platforms, path may also be specified as an open file descriptor;\\\n",
      "      the file descriptor must refer to a directory.\n",
      "      If this functionality is unavailable, using it raises NotImplementedError.\n",
      "    \n",
      "    The list is in arbitrary order.  It does not include the special\n",
      "    entries '.' and '..' even if they are present in the directory.\n",
      "\n"
     ]
    }
   ],
   "source": [
    "help(os.listdir)"
   ]
  },
  {
   "cell_type": "code",
   "execution_count": 6,
   "id": "32a933d9-2e85-4c22-a274-e31c38178982",
   "metadata": {},
   "outputs": [
    {
     "data": {
      "text/plain": [
       "['.ipynb_checkpoints',\n",
       " 'climate.txt',\n",
       " 'climate_results.csv',\n",
       " 'climate_results.txt',\n",
       " 'data_1.0.html',\n",
       " 'data_1.0.ipynb',\n",
       " 'data_1.0_files',\n",
       " 'data_2.0 (OS).ipynb']"
      ]
     },
     "execution_count": 6,
     "metadata": {},
     "output_type": "execute_result"
    }
   ],
   "source": [
    "os.listdir('C:\\\\Users\\\\Admin\\\\Desktop\\\\data_analysis')"
   ]
  },
  {
   "cell_type": "code",
   "execution_count": 19,
   "id": "e2e4887c-a1f5-4163-b8d7-5716b705a6ba",
   "metadata": {},
   "outputs": [
    {
     "data": {
      "text/plain": [
       "['.ipynb_checkpoints',\n",
       " 'climate.txt',\n",
       " 'climate_results.csv',\n",
       " 'climate_results.txt',\n",
       " 'data_1.0.html',\n",
       " 'data_1.0.ipynb',\n",
       " 'data_1.0_files',\n",
       " 'data_2.0 (OS).ipynb']"
      ]
     },
     "execution_count": 19,
     "metadata": {},
     "output_type": "execute_result"
    }
   ],
   "source": [
    "os.listdir('.')"
   ]
  },
  {
   "cell_type": "code",
   "execution_count": 34,
   "id": "b70c8b86-5bb5-4326-8f7c-3c1274397232",
   "metadata": {},
   "outputs": [],
   "source": [
    "os.makedirs('./data',exist_ok=True)"
   ]
  },
  {
   "cell_type": "code",
   "execution_count": 35,
   "id": "148d390a-eda0-440c-93bc-2f0ddce687ed",
   "metadata": {},
   "outputs": [
    {
     "data": {
      "text/plain": [
       "True"
      ]
     },
     "execution_count": 35,
     "metadata": {},
     "output_type": "execute_result"
    }
   ],
   "source": [
    "'data' in os.listdir('.')"
   ]
  },
  {
   "cell_type": "code",
   "execution_count": 44,
   "id": "843ece76-bea9-4907-9860-2f0cd820280a",
   "metadata": {},
   "outputs": [],
   "source": [
    "import urllib.request"
   ]
  },
  {
   "cell_type": "code",
   "execution_count": 54,
   "id": "39ed20dc-74ed-401f-9ac7-d0c71b58dec2",
   "metadata": {},
   "outputs": [],
   "source": [
    "url1 = 'https://gist.githubusercontent.com/aakashns/257f6e6c8719c17d0e498ea287d1a386/raw/7def9ef4234ddf0bc82f855ad67dac8b971852ef/loans1.txt'\n",
    "url2 = 'https://gist.githubusercontent.com/aakashns/257f6e6c8719c17d0e498ea287d1a386/raw/7def9ef4234ddf0bc82f855ad67dac8b971852ef/loans2.txt'\n",
    "url3 = 'https://gist.githubusercontent.com/aakashns/257f6e6c8719c17d0e498ea287d1a386/raw/7def9ef4234ddf0bc82f855ad67dac8b971852ef/loans3.txt'"
   ]
  },
  {
   "cell_type": "code",
   "execution_count": 56,
   "id": "40596cda-2e6c-4528-9da7-059be9b5f9f6",
   "metadata": {},
   "outputs": [
    {
     "data": {
      "text/plain": [
       "('./data/loans3.txt', <http.client.HTTPMessage at 0x24362c377d0>)"
      ]
     },
     "execution_count": 56,
     "metadata": {},
     "output_type": "execute_result"
    }
   ],
   "source": [
    "from urllib.request import urlretrieve\n",
    "urlretrieve(url1,'./data/loans1.txt')\n",
    "urlretrieve(url2, './data/loans2.txt')\n",
    "urlretrieve(url3, './data/loans3.txt')\n"
   ]
  },
  {
   "cell_type": "code",
   "execution_count": 57,
   "id": "7f1fe92d-e616-4028-9fb7-de80a1be4a61",
   "metadata": {},
   "outputs": [
    {
     "data": {
      "text/plain": [
       "['loans1.txt', 'loans2.txt', 'loans3.txt']"
      ]
     },
     "execution_count": 57,
     "metadata": {},
     "output_type": "execute_result"
    }
   ],
   "source": [
    "os.listdir('./data')"
   ]
  },
  {
   "cell_type": "code",
   "execution_count": 68,
   "id": "5feb4a41-3f3e-4b13-81f3-5b48e9caea1d",
   "metadata": {},
   "outputs": [],
   "source": [
    "file1 = open('./data/loans1.txt', mode='r')"
   ]
  },
  {
   "cell_type": "code",
   "execution_count": 65,
   "id": "59cc5a83-4a6f-4ad3-b654-641f48d3f129",
   "metadata": {},
   "outputs": [],
   "source": [
    "file1_contents = file1.read()\n"
   ]
  },
  {
   "cell_type": "code",
   "execution_count": 69,
   "id": "86c27a26-1711-4cd7-9be3-004d0253344f",
   "metadata": {},
   "outputs": [
    {
     "name": "stdout",
     "output_type": "stream",
     "text": [
      "\n"
     ]
    }
   ],
   "source": [
    "print(file1_contents)"
   ]
  },
  {
   "cell_type": "code",
   "execution_count": 71,
   "id": "a24ba303-c53f-420c-a59b-eab29abe05d0",
   "metadata": {},
   "outputs": [],
   "source": [
    "file1.close()"
   ]
  },
  {
   "cell_type": "code",
   "execution_count": 77,
   "id": "809c549a-4d95-40dd-8e9b-42959bbdfefb",
   "metadata": {},
   "outputs": [
    {
     "name": "stdout",
     "output_type": "stream",
     "text": [
      "amount,duration,rate,down_payment\n",
      "828400,120,0.11,100000\n",
      "4633400,240,0.06,\n",
      "42900,90,0.08,8900\n",
      "983000,16,0.14,\n",
      "15230,48,0.07,4300\n"
     ]
    }
   ],
   "source": [
    "with open('./data/loans2.txt') as file2:\n",
    "    file2_contents = file2.read()\n",
    "    print(file2_contents)"
   ]
  },
  {
   "cell_type": "code",
   "execution_count": 79,
   "id": "74bae68e-b1a2-45b8-821e-e3eb2485b1f9",
   "metadata": {},
   "outputs": [
    {
     "name": "stdout",
     "output_type": "stream",
     "text": [
      "['amount,duration,rate,down_payment\\n', '45230,48,0.07,4300\\n', '883000,16,0.14,\\n', '100000,12,0.1,\\n', '728400,120,0.12,100000\\n', '3637400,240,0.06,\\n', '82900,90,0.07,8900\\n', '316000,16,0.13,\\n', '15230,48,0.08,4300\\n', '991360,99,0.08,\\n', '323000,27,0.09,4720010000,36,0.08,20000\\n', '528400,120,0.11,100000\\n', '8633400,240,0.06,\\n', '12900,90,0.08,8900']\n"
     ]
    }
   ],
   "source": [
    "with open('./data/loans3.txt', 'r') as file3:\n",
    "    file3_lines = file3.readlines()\n",
    "    print(file3_lines)"
   ]
  },
  {
   "cell_type": "code",
   "execution_count": 80,
   "id": "4e44d6b2-db5c-4f0c-a0fd-7e2a857fb160",
   "metadata": {},
   "outputs": [],
   "source": [
    "def parse_headers(header_line):\n",
    "    return header_line.strip().split(',')"
   ]
  },
  {
   "cell_type": "code",
   "execution_count": 82,
   "id": "f234e7bd-e304-4f54-88fe-7f7f1cda5450",
   "metadata": {},
   "outputs": [
    {
     "name": "stdout",
     "output_type": "stream",
     "text": [
      "['amount', 'duration', 'rate', 'down_payment']\n"
     ]
    }
   ],
   "source": [
    "heading = parse_headers(file3_lines[0])\n",
    "print(heading)"
   ]
  },
  {
   "cell_type": "code",
   "execution_count": 99,
   "id": "cce0d057-67d0-4051-abb7-ea5de7adf50d",
   "metadata": {},
   "outputs": [],
   "source": [
    "def parse_values(data_line):\n",
    "    values = []\n",
    "    for item in data_line.strip().split(','):\n",
    "        values.append(float(item))\n",
    "    return values"
   ]
  },
  {
   "cell_type": "code",
   "execution_count": 102,
   "id": "358c950e-f1e8-4cbc-b0e4-0dec6c1faf20",
   "metadata": {},
   "outputs": [
    {
     "data": {
      "text/plain": [
       "[45230.0, 48.0, 0.07, 4300.0]"
      ]
     },
     "execution_count": 102,
     "metadata": {},
     "output_type": "execute_result"
    }
   ],
   "source": [
    "parse_values(file3_lines[1])"
   ]
  },
  {
   "cell_type": "code",
   "execution_count": 106,
   "id": "9e0235b4-32bc-478a-b003-964cafd29d18",
   "metadata": {},
   "outputs": [],
   "source": [
    "def parse_values(data_line):\n",
    "    values = []\n",
    "    for item in data_line.strip().split(','):\n",
    "        if item == '':\n",
    "            values.append(0.0)\n",
    "        else:\n",
    "            try:\n",
    "                values.append(float(item))\n",
    "            except ValueError:\n",
    "                values.append(item)\n",
    "    return values"
   ]
  },
  {
   "cell_type": "code",
   "execution_count": 108,
   "id": "2ce5c9f6-7014-4e33-abc6-762765d6a3af",
   "metadata": {},
   "outputs": [],
   "source": [
    "values = []\n",
    "for i in range(1,6):\n",
    "    values += parse_values(file3_lines[i])"
   ]
  },
  {
   "cell_type": "code",
   "execution_count": 109,
   "id": "be0bc535-23ff-4d1d-9ec3-abf7ab97cad1",
   "metadata": {},
   "outputs": [
    {
     "name": "stdout",
     "output_type": "stream",
     "text": [
      "[45230.0, 48.0, 0.07, 4300.0, 883000.0, 16.0, 0.14, 0.0, 100000.0, 12.0, 0.1, 0.0, 728400.0, 120.0, 0.12, 100000.0, 3637400.0, 240.0, 0.06, 0.0]\n"
     ]
    }
   ],
   "source": [
    "print(values)"
   ]
  },
  {
   "cell_type": "code",
   "execution_count": 110,
   "id": "d54741ec-21df-498e-ba19-0a4d9846367e",
   "metadata": {},
   "outputs": [],
   "source": [
    "def create_item_dict(values, headers):\n",
    "    result = {}\n",
    "    for value, header in zip(values, headers):\n",
    "        result[header] = value\n",
    "    return result"
   ]
  },
  {
   "cell_type": "code",
   "execution_count": 114,
   "id": "6ec04002-9f5f-492c-bd85-b66d734d0b7d",
   "metadata": {},
   "outputs": [
    {
     "name": "stdout",
     "output_type": "stream",
     "text": [
      "(1, 'a')\n",
      "(2, 'b')\n",
      "(3, 'c')\n"
     ]
    }
   ],
   "source": [
    "for anything in zip([1,2,3],['a','b','c']):\n",
    "    print(anything)"
   ]
  },
  {
   "cell_type": "code",
   "execution_count": 116,
   "id": "97098c58-3333-4be0-8309-8a3654e3a212",
   "metadata": {},
   "outputs": [
    {
     "data": {
      "text/plain": [
       "{'amount': 45230.0, 'duration': 48.0, 'rate': 0.07, 'down_payment': 4300.0}"
      ]
     },
     "execution_count": 116,
     "metadata": {},
     "output_type": "execute_result"
    }
   ],
   "source": [
    "values1 = parse_values(file3_lines[1])\n",
    "create_item_dict(values1, heading)"
   ]
  },
  {
   "cell_type": "code",
   "execution_count": 118,
   "id": "e5b51e47-7bcb-4347-9418-312c43397b19",
   "metadata": {},
   "outputs": [
    {
     "data": {
      "text/plain": [
       "{'amount': 883000.0, 'duration': 16.0, 'rate': 0.14, 'down_payment': 0.0}"
      ]
     },
     "execution_count": 118,
     "metadata": {},
     "output_type": "execute_result"
    }
   ],
   "source": [
    "values2 = parse_values(file3_lines[2])\n",
    "create_item_dict(values2, heading)"
   ]
  },
  {
   "cell_type": "code",
   "execution_count": 130,
   "id": "2163ecc9-850c-44f3-9b48-1ca474503c73",
   "metadata": {},
   "outputs": [],
   "source": [
    "# def read_csv(path):\n",
    "#     result = []\n",
    "#     with open(path, 'r') as f:\n",
    "#         lines = f.readlines()\n",
    "#         # Parse the header\n",
    "#         headers = parse_headers(lines[0])\n",
    "#         for data_line in lines[1:]:\n",
    "#             values = parse_values(data_line)\n",
    "#             # Create a dictionary using values & headers\n",
    "#             item_dict = create_item_dict(values, headers)\n",
    "#             # Add the dictionary to the result\n",
    "#             result.append(item_dict)\n",
    "#     return result\n",
    "def read_csv(path):\n",
    "    value = []\n",
    "    with open(path,'r') as f:\n",
    "        data = f.readlines()\n",
    "        header = parse_headers(data[0])\n",
    "        for lines in data[1:]:\n",
    "            number = parse_values(lines)\n",
    "            item_diction = create_item_dict(number,header)\n",
    "            value.append(item_diction)\n",
    "    return value"
   ]
  },
  {
   "cell_type": "code",
   "execution_count": 126,
   "id": "b6c618a6-be0a-41a3-83b7-c0d3e84a1e49",
   "metadata": {},
   "outputs": [
    {
     "name": "stdout",
     "output_type": "stream",
     "text": [
      "amount,duration,rate,down_payment\n",
      "828400,120,0.11,100000\n",
      "4633400,240,0.06,\n",
      "42900,90,0.08,8900\n",
      "983000,16,0.14,\n",
      "15230,48,0.07,4300\n"
     ]
    }
   ],
   "source": [
    "with open('./data/loans2.txt') as file2:\n",
    "    print(file2.read())\n"
   ]
  },
  {
   "cell_type": "code",
   "execution_count": 131,
   "id": "b734140f-f8eb-4ad1-9f4a-b6e2638c4bb0",
   "metadata": {},
   "outputs": [
    {
     "data": {
      "text/plain": [
       "[{'amount': 828400.0,\n",
       "  'duration': 120.0,\n",
       "  'rate': 0.11,\n",
       "  'down_payment': 100000.0},\n",
       " {'amount': 4633400.0, 'duration': 240.0, 'rate': 0.06, 'down_payment': 0.0},\n",
       " {'amount': 42900.0, 'duration': 90.0, 'rate': 0.08, 'down_payment': 8900.0},\n",
       " {'amount': 983000.0, 'duration': 16.0, 'rate': 0.14, 'down_payment': 0.0},\n",
       " {'amount': 15230.0, 'duration': 48.0, 'rate': 0.07, 'down_payment': 4300.0}]"
      ]
     },
     "execution_count": 131,
     "metadata": {},
     "output_type": "execute_result"
    }
   ],
   "source": [
    "read_csv('./data/loans2.txt')"
   ]
  },
  {
   "cell_type": "code",
   "execution_count": 132,
   "id": "068f7ada-4ad3-4308-82fd-4fffc9abe1d0",
   "metadata": {},
   "outputs": [],
   "source": [
    "def parse_headers(header_line):\n",
    "    return header_line.strip().split(',')\n",
    "\n",
    "def parse_values(data_line):\n",
    "    values = []\n",
    "    for item in data_line.strip().split(','):\n",
    "        if item == '':\n",
    "            values.append(0.0)\n",
    "        else:\n",
    "            try:\n",
    "                values.append(float(item))\n",
    "            except ValueError:\n",
    "                values.append(item)\n",
    "    return values\n",
    "\n",
    "def create_item_dict(values, headers):\n",
    "    result = {}\n",
    "    for value, header in zip(values, headers):\n",
    "        result[header] = value\n",
    "    return result\n",
    "\n",
    "def read_csv(path):\n",
    "    result = []\n",
    "    # Open the file in read mode\n",
    "    with open(path, 'r') as f:\n",
    "        # Get a list of lines\n",
    "        lines = f.readlines()\n",
    "        # Parse the header\n",
    "        headers = parse_headers(lines[0])\n",
    "        # Loop over the remaining lines\n",
    "        for data_line in lines[1:]:\n",
    "            # Parse the values\n",
    "            values = parse_values(data_line)\n",
    "            # Create a dictionary using values & headers\n",
    "            item_dict = create_item_dict(values, headers)\n",
    "            # Add the dictionary to the result\n",
    "            result.append(item_dict)\n",
    "    return result"
   ]
  },
  {
   "cell_type": "code",
   "execution_count": 133,
   "id": "964155cd-3fad-4f79-bbc9-675ee120cce6",
   "metadata": {},
   "outputs": [],
   "source": [
    "import math\n",
    "def loan_emi(amount, duration, rate, down_payment=0):\n",
    "    \"\"\"Calculates the equal montly installment (EMI) for a loan.\n",
    "    \n",
    "    Arguments:\n",
    "        amount - Total amount to be spent (loan + down payment)\n",
    "        duration - Duration of the loan (in months)\n",
    "        rate - Rate of interest (monthly)\n",
    "        down_payment (optional) - Optional intial payment (deducted from amount)\n",
    "    \"\"\"\n",
    "    loan_amount = amount - down_payment\n",
    "    try:\n",
    "        emi = loan_amount * rate * ((1+rate)**duration) / (((1+rate)**duration)-1)\n",
    "    except ZeroDivisionError:\n",
    "        emi = loan_amount / duration\n",
    "    emi = math.ceil(emi)\n",
    "    return emi"
   ]
  },
  {
   "cell_type": "code",
   "execution_count": 134,
   "id": "50277214-c86a-4691-bb3c-2618a9b9b1b6",
   "metadata": {},
   "outputs": [],
   "source": [
    "loans2 = read_csv('./data/loans2.txt')"
   ]
  },
  {
   "cell_type": "code",
   "execution_count": 135,
   "id": "c291144a-bb91-4204-97ac-75b15bbcad5f",
   "metadata": {},
   "outputs": [
    {
     "data": {
      "text/plain": [
       "[{'amount': 828400.0,\n",
       "  'duration': 120.0,\n",
       "  'rate': 0.11,\n",
       "  'down_payment': 100000.0},\n",
       " {'amount': 4633400.0, 'duration': 240.0, 'rate': 0.06, 'down_payment': 0.0},\n",
       " {'amount': 42900.0, 'duration': 90.0, 'rate': 0.08, 'down_payment': 8900.0},\n",
       " {'amount': 983000.0, 'duration': 16.0, 'rate': 0.14, 'down_payment': 0.0},\n",
       " {'amount': 15230.0, 'duration': 48.0, 'rate': 0.07, 'down_payment': 4300.0}]"
      ]
     },
     "execution_count": 135,
     "metadata": {},
     "output_type": "execute_result"
    }
   ],
   "source": [
    "loans2"
   ]
  },
  {
   "cell_type": "code",
   "execution_count": 138,
   "id": "462d49ce-e93b-446e-b180-8b1ccefefb4b",
   "metadata": {},
   "outputs": [
    {
     "name": "stdout",
     "output_type": "stream",
     "text": [
      "[{'amount': 828400.0, 'duration': 120.0, 'rate': 0.11, 'down_payment': 100000.0, 'emi': 10034}, {'amount': 4633400.0, 'duration': 240.0, 'rate': 0.06, 'down_payment': 0.0, 'emi': 33196}, {'amount': 42900.0, 'duration': 90.0, 'rate': 0.08, 'down_payment': 8900.0, 'emi': 504}, {'amount': 983000.0, 'duration': 16.0, 'rate': 0.14, 'down_payment': 0.0, 'emi': 67707}, {'amount': 15230.0, 'duration': 48.0, 'rate': 0.07, 'down_payment': 4300.0, 'emi': 262}]\n"
     ]
    }
   ],
   "source": [
    "for debt in loans2:\n",
    "    debt['emi'] = loan_emi(debt['amount'],debt['duration'],debt['rate']/12,debt['down_payment'])\n",
    "print(loans2)"
   ]
  },
  {
   "cell_type": "code",
   "execution_count": 139,
   "id": "05a11ad4-bf9b-46ce-8fbd-8779faf4e204",
   "metadata": {},
   "outputs": [],
   "source": [
    "def compute_emis(loans):\n",
    "    for loan in loans:\n",
    "        loan['emi'] = loan_emi(\n",
    "            loan['amount'], \n",
    "            loan['duration'], \n",
    "            loan['rate']/12, # the CSV contains yearly rates\n",
    "            loan['down_payment'])\n",
    "loans2 = read_csv('./data/loans2.txt')\n",
    "compute_emis(loans2)"
   ]
  },
  {
   "cell_type": "code",
   "execution_count": 140,
   "id": "704ee187-44de-451a-a9dd-25ede0f94f24",
   "metadata": {},
   "outputs": [],
   "source": [
    "with open('./data/emis2.txt','w') as f:\n",
    "    for loan in loans2:\n",
    "        f.write('{},{},{},{},{}\\n'.format(loan['amount'], \n",
    "            loan['duration'], \n",
    "            loan['rate'], \n",
    "            loan['down_payment'], \n",
    "            loan['emi']))\n"
   ]
  },
  {
   "cell_type": "code",
   "execution_count": 141,
   "id": "df3d7300-2cd9-4cbe-b8f1-2583c714017d",
   "metadata": {},
   "outputs": [
    {
     "data": {
      "text/plain": [
       "['emis2.txt', 'loans1.txt', 'loans2.txt', 'loans3.txt']"
      ]
     },
     "execution_count": 141,
     "metadata": {},
     "output_type": "execute_result"
    }
   ],
   "source": [
    "os.listdir('data')"
   ]
  },
  {
   "cell_type": "code",
   "execution_count": 147,
   "id": "5bfc8674-635f-4a19-a6b4-811a10231cb7",
   "metadata": {},
   "outputs": [
    {
     "name": "stdout",
     "output_type": "stream",
     "text": [
      "828400.0,120.0,0.11,100000.0,10034\n",
      "4633400.0,240.0,0.06,0.0,33196\n",
      "42900.0,90.0,0.08,8900.0,504\n",
      "983000.0,16.0,0.14,0.0,67707\n",
      "15230.0,48.0,0.07,4300.0,262\n",
      "\n"
     ]
    }
   ],
   "source": [
    "with open('./data/emis2.txt','r') as f:\n",
    "    print(f.read())"
   ]
  },
  {
   "cell_type": "code",
   "execution_count": 148,
   "id": "8bbde4e2-eb7d-49d8-aeee-a75d2c8f1c6d",
   "metadata": {},
   "outputs": [],
   "source": [
    "def write_csv(items, path):\n",
    "    # Open the file in write mode\n",
    "    with open(path, 'w') as f:\n",
    "        # Return if there's nothing to write\n",
    "        if len(items) == 0:\n",
    "            return\n",
    "        \n",
    "        # Write the headers in the first line\n",
    "        headers = list(items[0].keys())\n",
    "        f.write(','.join(headers) + '\\n')\n",
    "        \n",
    "        # Write one item per line\n",
    "        for item in items:\n",
    "            values = []\n",
    "            for header in headers:\n",
    "                values.append(str(item.get(header, \"\")))\n",
    "            f.write(','.join(values) + \"\\n\")\n",
    "            "
   ]
  },
  {
   "cell_type": "code",
   "execution_count": 152,
   "id": "c21a95d8-88c6-4a68-b618-1bcf811e8904",
   "metadata": {},
   "outputs": [],
   "source": [
    "loans3 = read_csv('./data/loans3.txt')\n",
    "compute_emis(loans3)\n",
    "write_csv(loans3, './data/emis3.txt')\n"
   ]
  },
  {
   "cell_type": "code",
   "execution_count": 153,
   "id": "b12c122f-f56d-476c-97e4-09fbfa7304ae",
   "metadata": {},
   "outputs": [
    {
     "name": "stdout",
     "output_type": "stream",
     "text": [
      "amount,duration,rate,down_payment,emi\n",
      "45230.0,48.0,0.07,4300.0,981\n",
      "883000.0,16.0,0.14,0.0,60819\n",
      "100000.0,12.0,0.1,0.0,8792\n",
      "728400.0,120.0,0.12,100000.0,9016\n",
      "3637400.0,240.0,0.06,0.0,26060\n",
      "82900.0,90.0,0.07,8900.0,1060\n",
      "316000.0,16.0,0.13,0.0,21618\n",
      "15230.0,48.0,0.08,4300.0,267\n",
      "991360.0,99.0,0.08,0.0,13712\n",
      "323000.0,27.0,0.09,4720010000.0,-193751447\n",
      "528400.0,120.0,0.11,100000.0,5902\n",
      "8633400.0,240.0,0.06,0.0,61853\n",
      "12900.0,90.0,0.08,8900.0,60\n",
      "\n"
     ]
    }
   ],
   "source": [
    "with open('./data/emis3.txt', 'r') as f:\n",
    "    print(f.read())"
   ]
  },
  {
   "cell_type": "code",
   "execution_count": 154,
   "id": "f2aa5b32-e2d6-4544-b7ee-f9e324e66f8f",
   "metadata": {},
   "outputs": [],
   "source": [
    "for i in range(1,4):\n",
    "    loans = read_csv('./data/loans{}.txt'.format(i))\n",
    "    compute_emis(loans)\n",
    "    write_csv(loans, './data/emis{}.txt'.format(i))"
   ]
  },
  {
   "cell_type": "code",
   "execution_count": 155,
   "id": "ff5160eb-8be6-4089-a347-1f975d7c2bc9",
   "metadata": {},
   "outputs": [
    {
     "data": {
      "text/plain": [
       "['emis1.txt',\n",
       " 'emis2.txt',\n",
       " 'emis3.txt',\n",
       " 'loans1.txt',\n",
       " 'loans2.txt',\n",
       " 'loans3.txt']"
      ]
     },
     "execution_count": 155,
     "metadata": {},
     "output_type": "execute_result"
    }
   ],
   "source": [
    "os.listdir('./data')"
   ]
  },
  {
   "cell_type": "code",
   "execution_count": null,
   "id": "0aed6a86-16ed-4505-98ce-2894ecd401fd",
   "metadata": {},
   "outputs": [],
   "source": []
  }
 ],
 "metadata": {
  "kernelspec": {
   "display_name": "Python 3 (ipykernel)",
   "language": "python",
   "name": "python3"
  },
  "language_info": {
   "codemirror_mode": {
    "name": "ipython",
    "version": 3
   },
   "file_extension": ".py",
   "mimetype": "text/x-python",
   "name": "python",
   "nbconvert_exporter": "python",
   "pygments_lexer": "ipython3",
   "version": "3.11.7"
  }
 },
 "nbformat": 4,
 "nbformat_minor": 5
}
